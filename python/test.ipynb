{
 "cells": [
  {
   "cell_type": "code",
   "execution_count": 1,
   "metadata": {},
   "outputs": [],
   "source": [
    "from dataset import WandDataset, HomeDepotDataset"
   ]
  },
  {
   "cell_type": "code",
   "execution_count": 2,
   "metadata": {},
   "outputs": [],
   "source": [
    "wand = WandDataset()"
   ]
  },
  {
   "cell_type": "code",
   "execution_count": 5,
   "metadata": {},
   "outputs": [
    {
     "data": {
      "text/plain": [
       "array([[0, 'salon chair'],\n",
       "       [1, 'smart coffee table'],\n",
       "       [2, 'dinosaur'],\n",
       "       [3, 'turquoise pillows'],\n",
       "       [4, 'chair and a half recliner']], dtype=object)"
      ]
     },
     "execution_count": 5,
     "metadata": {},
     "output_type": "execute_result"
    }
   ],
   "source": [
    "wand.get_query()[:5]"
   ]
  },
  {
   "cell_type": "code",
   "execution_count": 6,
   "metadata": {},
   "outputs": [
    {
     "data": {
      "text/plain": [
       "[Document(page_content='good , deep sleep can be quite difficult to have in this busy age . fortunately , there ’ s an antidote to such a problem : a nice , quality bed frame like the acacia kaylin . solidly constructed from acacia wood , this bed frame will stand the test of time and is fit to rest your shoulders on for years and years . its sleek , natural wood grain appearance provides a pleasant aesthetic to adorn any bedroom , acting both as a decorative piece as well as a place to give comfort after a hard day of work . our bed frame is designed to give ample under-bed space for easy cleaning and other usages , with a headboard attached to further express the craftiness . it can be used with other accessories such as a nightstand or bookcase headboard and is compatible with many types of mattresses including memory foam , spring , or hybrid ones . there ’ s nowhere better to relax than your own home , and with this bed frame that feeling of homeliness will even be more emphasized . rest comfortably and in style .', metadata={'document_id': 0, 'title': 'solid wood platform bed'}),\n",
       " Document(page_content='create delicious slow-cooked meals , from tender meat to flavorful veggies , with this easy-to-use slow cooker . the unit features a nonstick cast-aluminum insert that moves seamlessly from the oven or stovetop to the electric base to the table . you can use the insert alone or with the slow cooker to make a variety of one-pot dishes from soup to desserts , and much more . you can even prepare your ingredients in the morning , place everything in the slow cooker , and walk away to come home to the aroma of a hot , healthy dinner at the end of a busy day . with its sleek stainless-steel finish , the slow cooker not only presents beautifully , but it ’ s also the perfect size to accommodate the whole family or a large group when entertaining .', metadata={'document_id': 1, 'title': 'all-clad 7 qt . slow cooker'}),\n",
       " Document(page_content='prepare home-cooked meals on any schedule with this essential slow cooker , featuring a dishwasher-safe insert and 26-hour timer .', metadata={'document_id': 2, 'title': 'all-clad electrics 6.5 qt . slow cooker'}),\n",
       " Document(page_content=\"this original stainless tool was designed to complement manufacturer 's cookware . the pizza cutter features a sharp rotary blade to easily cut through pizza crust , pasta dough and pastries .\", metadata={'document_id': 3, 'title': 'all-clad all professional tools pizza cutter'}),\n",
       " Document(page_content='the hardware has a rich heritage of delivering modern luxury to discriminating homeowners . this offers effortless , accessible style and luxury . any homeowner can instantly create an atmosphere of confidence from the moment someone knocks on the door . the baldwin prestige alcott passage knob with round rosette features a classic-round traditional inspired design which is offered in keyed-entry , passage , privacy , and half dummy functions .', metadata={'document_id': 4, 'title': 'baldwin prestige alcott passage knob with round rosette'})]"
      ]
     },
     "execution_count": 6,
     "metadata": {},
     "output_type": "execute_result"
    }
   ],
   "source": [
    "wand.get_docs()[:5]"
   ]
  },
  {
   "cell_type": "code",
   "execution_count": null,
   "metadata": {},
   "outputs": [],
   "source": [
    "query_id = 0\n",
    "product_id_list = [25434, 12088]\n",
    "wand.get_score(query_id, product_id_list)"
   ]
  },
  {
   "cell_type": "code",
   "execution_count": null,
   "metadata": {},
   "outputs": [],
   "source": []
  },
  {
   "cell_type": "code",
   "execution_count": null,
   "metadata": {},
   "outputs": [],
   "source": [
    "# home\n",
    "home = HomeDepotDataset()"
   ]
  },
  {
   "cell_type": "code",
   "execution_count": null,
   "metadata": {},
   "outputs": [],
   "source": [
    "home.get_query().head()"
   ]
  },
  {
   "cell_type": "code",
   "execution_count": null,
   "metadata": {},
   "outputs": [],
   "source": [
    "home.get_docs()[:5]"
   ]
  },
  {
   "cell_type": "code",
   "execution_count": null,
   "metadata": {},
   "outputs": [],
   "source": [
    "query_id = 0\n",
    "product_id_list = [100001, 101036]\n",
    "home.get_score(query_id, product_id_list)"
   ]
  },
  {
   "cell_type": "code",
   "execution_count": null,
   "metadata": {},
   "outputs": [],
   "source": []
  },
  {
   "cell_type": "code",
   "execution_count": null,
   "metadata": {},
   "outputs": [],
   "source": []
  },
  {
   "cell_type": "code",
   "execution_count": null,
   "metadata": {},
   "outputs": [],
   "source": []
  },
  {
   "cell_type": "code",
   "execution_count": null,
   "metadata": {},
   "outputs": [],
   "source": [
    "from Evaluation import Evaluator\n",
    "\n",
    "evaluator = Evaluator()\n",
    "\n",
    "y_true = [[0, 1, 1, 1]]\n",
    "y_score = [[3, 2, 1, 0]]\n",
    "\n",
    "print(evaluator.evaluate(y_true, y_score, 10))\n"
   ]
  },
  {
   "cell_type": "code",
   "execution_count": null,
   "metadata": {},
   "outputs": [],
   "source": [
    "# import modules\n",
    "import numpy as np\n",
    "import pandas as pd\n",
    "from tabulate import tabulate\n",
    "\n",
    "# import utilities\n",
    "from BM25 import BestMatching\n",
    "from VectorSearch import (\n",
    "    BasicSearch,\n",
    "    HyDESearch,\n",
    "    HyDEWithCustomSearch,\n",
    ")\n",
    "from CrossEncoderReRanking import CrossEncoder\n",
    "\n",
    "from Evaluation import Evaluator\n",
    "\n",
    "from utilities import (\n",
    "    initialize_model,\n",
    "    load_docs,\n",
    "    pd_multi_merge,\n",
    ")"
   ]
  },
  {
   "cell_type": "code",
   "execution_count": null,
   "metadata": {},
   "outputs": [],
   "source": [
    "# 評価\n",
    "top_k = 10\n",
    "llm, embeddings = initialize_model()\n",
    "\n",
    "# vector search\n",
    "bestMatching = BestMatching(load_docs())\n",
    "basicSearch = BasicSearch(llm, embeddings)\n",
    "hyDESearch = HyDESearch(llm, embeddings)\n",
    "hyDEWithCustomSearch = HyDEWithCustomSearch(llm, embeddings)\n",
    "crossEncoder = CrossEncoder(bestMatching, basicSearch)\n",
    "evaluator = Evaluator()\n",
    "\n",
    "queries = [\"キャリア自律について知りたい\", \"コミック\"]\n",
    "y_trues = [np.array([[0,1,0,0,0,1]]), np.array([[0,0,1,1,1,0]])]\n",
    "y_scores = []\n",
    "\n",
    "for query, y_true in zip(queries, y_trues):\n",
    "    # keyword search\n",
    "    df_bm25 = bestMatching.search(query, top_k).rename(columns={'score': 'bm25'})['bm25']\n",
    "\n",
    "    df_preprocess = pd_multi_merge([\n",
    "        basicSearch.search(query, table_name='original', top_k=top_k).rename(columns={'score': 'basic_original'})['basic_original'],\n",
    "        hyDESearch.search(query, table_name='original', top_k=top_k).rename(columns={'score': 'hyde_original'})['hyde_original'],\n",
    "        hyDEWithCustomSearch.search(query, table_name='original', top_k=top_k).rename(columns={'score': 'hyde_custom_original'})['hyde_custom_original'],\n",
    "        crossEncoder.search(query, table_name='original', top_k=top_k).rename(columns={'score': 'cross_encoder_original'})['cross_encoder_original'],\n",
    "    ], left_index=True, right_index=True, how='outer')\n",
    "\n",
    "    tables = ['synopsis', 'synopsis_ja', 'summary', 'summary_ja', 'split']\n",
    "    df_tables = pd_multi_merge([\n",
    "        basicSearch.search(query, table_name, top_k=top_k).rename(columns={'score': f'basic_{table_name}'})[f'basic_{table_name}']\n",
    "        for table_name in tables\n",
    "    ], left_index=True, right_index=True, how='outer')\n",
    "\n",
    "    df_all = pd_multi_merge([df_bm25, df_preprocess, df_tables], left_index=True, right_index=True, how='outer')\n",
    "    print(tabulate(df_all, headers='keys', tablefmt='psql'))\n",
    "\n",
    "df_all"
   ]
  },
  {
   "cell_type": "code",
   "execution_count": null,
   "metadata": {},
   "outputs": [],
   "source": []
  },
  {
   "cell_type": "code",
   "execution_count": 8,
   "metadata": {},
   "outputs": [
    {
     "name": "stdout",
     "output_type": "stream",
     "text": [
      "[Document(page_content='good , deep sleep can be quite difficult to have in this busy age . fortunately , there ’ s an antidote to such a problem : a nice , quality bed frame like the acacia kaylin . solidly constructed from acacia wood , this bed frame will stand the test of time and is fit to rest your shoulders on for years and years . its sleek , natural wood grain appearance provides a pleasant aesthetic to adorn any bedroom , acting both as a decorative piece as well as a place to give comfort after a hard day of work . our bed frame is designed to give ample under-bed space for easy cleaning and other usages , with a headboard attached to further express the craftiness . it can be used with other accessories such as a nightstand or bookcase headboard and is compatible with many types of mattresses including memory foam , spring , or hybrid ones . there ’ s nowhere better to relax than your own home , and with this bed frame that feeling of homeliness will even be more emphasized . rest comfortably and in style .', metadata={'document_id': 0, 'title': 'solid wood platform bed'}), Document(page_content='create delicious slow-cooked meals , from tender meat to flavorful veggies , with this easy-to-use slow cooker . the unit features a nonstick cast-aluminum insert that moves seamlessly from the oven or stovetop to the electric base to the table . you can use the insert alone or with the slow cooker to make a variety of one-pot dishes from soup to desserts , and much more . you can even prepare your ingredients in the morning , place everything in the slow cooker , and walk away to come home to the aroma of a hot , healthy dinner at the end of a busy day . with its sleek stainless-steel finish , the slow cooker not only presents beautifully , but it ’ s also the perfect size to accommodate the whole family or a large group when entertaining .', metadata={'document_id': 1, 'title': 'all-clad 7 qt . slow cooker'}), Document(page_content='prepare home-cooked meals on any schedule with this essential slow cooker , featuring a dishwasher-safe insert and 26-hour timer .', metadata={'document_id': 2, 'title': 'all-clad electrics 6.5 qt . slow cooker'}), Document(page_content=\"this original stainless tool was designed to complement manufacturer 's cookware . the pizza cutter features a sharp rotary blade to easily cut through pizza crust , pasta dough and pastries .\", metadata={'document_id': 3, 'title': 'all-clad all professional tools pizza cutter'}), Document(page_content='the hardware has a rich heritage of delivering modern luxury to discriminating homeowners . this offers effortless , accessible style and luxury . any homeowner can instantly create an atmosphere of confidence from the moment someone knocks on the door . the baldwin prestige alcott passage knob with round rosette features a classic-round traditional inspired design which is offered in keyed-entry , passage , privacy , and half dummy functions .', metadata={'document_id': 4, 'title': 'baldwin prestige alcott passage knob with round rosette'})]\n"
     ]
    }
   ],
   "source": [
    "from dataset import (\n",
    "    WandDataset,\n",
    "    HomeDepotDataset,\n",
    ")\n",
    "\n",
    "WANDS = WandDataset()\n",
    "base_docs = WANDS.get_docs()"
   ]
  },
  {
   "cell_type": "code",
   "execution_count": 21,
   "metadata": {},
   "outputs": [
    {
     "data": {
      "text/plain": [
       "[Document(page_content='nan', metadata={'document_id': 32, 'title': \"array 8.25 '' solid hardwood wall paneling in american walnut\"})]"
      ]
     },
     "execution_count": 21,
     "metadata": {},
     "output_type": "execute_result"
    }
   ],
   "source": [
    "import numpy as np\n",
    "nan_list = [doc for doc in base_docs if doc.metadata['document_id'] == 32]\n",
    "nan_list"
   ]
  },
  {
   "cell_type": "code",
   "execution_count": 9,
   "metadata": {},
   "outputs": [
    {
     "data": {
      "text/plain": [
       "[Document(page_content='good , deep sleep can be quite difficult to have in this busy age . fortunately , there ’ s an antidote to such a problem : a nice , quality bed frame like the acacia kaylin . solidly constructed from acacia wood , this bed frame will stand the test of time and is fit to rest your shoulders on for years and years . its sleek , natural wood grain appearance provides a pleasant aesthetic to adorn any bedroom , acting both as a decorative piece as well as a place to give comfort after a hard day of work . our bed frame is designed to give ample under-bed space for easy cleaning and other usages , with a headboard attached to further express the craftiness . it can be used with other accessories such as a nightstand or bookcase headboard and is compatible with many types of mattresses including memory foam , spring , or hybrid ones . there ’ s nowhere better to relax than your own home , and with this bed frame that feeling of homeliness will even be more emphasized . rest comfortably and in style .', metadata={'document_id': 0, 'title': 'solid wood platform bed'}),\n",
       " Document(page_content='create delicious slow-cooked meals , from tender meat to flavorful veggies , with this easy-to-use slow cooker . the unit features a nonstick cast-aluminum insert that moves seamlessly from the oven or stovetop to the electric base to the table . you can use the insert alone or with the slow cooker to make a variety of one-pot dishes from soup to desserts , and much more . you can even prepare your ingredients in the morning , place everything in the slow cooker , and walk away to come home to the aroma of a hot , healthy dinner at the end of a busy day . with its sleek stainless-steel finish , the slow cooker not only presents beautifully , but it ’ s also the perfect size to accommodate the whole family or a large group when entertaining .', metadata={'document_id': 1, 'title': 'all-clad 7 qt . slow cooker'}),\n",
       " Document(page_content='prepare home-cooked meals on any schedule with this essential slow cooker , featuring a dishwasher-safe insert and 26-hour timer .', metadata={'document_id': 2, 'title': 'all-clad electrics 6.5 qt . slow cooker'}),\n",
       " Document(page_content=\"this original stainless tool was designed to complement manufacturer 's cookware . the pizza cutter features a sharp rotary blade to easily cut through pizza crust , pasta dough and pastries .\", metadata={'document_id': 3, 'title': 'all-clad all professional tools pizza cutter'}),\n",
       " Document(page_content='the hardware has a rich heritage of delivering modern luxury to discriminating homeowners . this offers effortless , accessible style and luxury . any homeowner can instantly create an atmosphere of confidence from the moment someone knocks on the door . the baldwin prestige alcott passage knob with round rosette features a classic-round traditional inspired design which is offered in keyed-entry , passage , privacy , and half dummy functions .', metadata={'document_id': 4, 'title': 'baldwin prestige alcott passage knob with round rosette'})]"
      ]
     },
     "execution_count": 9,
     "metadata": {},
     "output_type": "execute_result"
    }
   ],
   "source": [
    "base_docs[:5]"
   ]
  },
  {
   "cell_type": "code",
   "execution_count": 11,
   "metadata": {},
   "outputs": [],
   "source": [
    "from langchain.chat_models import AzureChatOpenAI\n",
    "from langchain.embeddings.openai import OpenAIEmbeddings\n",
    "\n",
    "from langchain.vectorstores import Qdrant\n",
    "from langchain.vectorstores.pgvector import PGVector\n",
    "from config import Settings\n",
    "settings = Settings()\n",
    "\n",
    "# モデルの初期化\n",
    "def initialize_model():\n",
    "    chat = AzureChatOpenAI(\n",
    "        temperature=0,\n",
    "        openai_api_key=settings.AZURE_OPENAI_API_KEY,\n",
    "        openai_api_base=settings.AZURE_OPENAI_API_ENDPOINT,\n",
    "        deployment_name=settings.AZURE_OPENAI_API_DEPLOYMENT_NAME,\n",
    "        openai_api_version=settings.AZURE_OPENAI_API_VERSION,\n",
    "        openai_api_type=\"azure\",\n",
    "        max_tokens=1000,\n",
    "    )\n",
    "\n",
    "    embeddings = OpenAIEmbeddings(\n",
    "        openai_api_key=settings.AZURE_OPENAI_API_KEY,\n",
    "        openai_api_base=settings.AZURE_OPENAI_API_ENDPOINT,\n",
    "        openai_api_version=settings.AZURE_OPENAI_API_VERSION,\n",
    "        openai_api_type=\"azure\",\n",
    "        model=settings.EMBEDDING_MODEL_NAME,\n",
    "        chunk_size=1\n",
    "    )\n",
    "    return chat, embeddings\n",
    "\n",
    "# ベクトルストアに保存\n",
    "def saveVector(embeddings, docs, tabel_name):\n",
    "\n",
    "    # Qdrant\n",
    "    Qdrant.from_documents(\n",
    "        documents=docs,\n",
    "        embedding=embeddings,\n",
    "        url=settings.QDRANT_URL,\n",
    "        prefer_grpc=True,\n",
    "        collection_name=tabel_name,\n",
    "    )"
   ]
  },
  {
   "cell_type": "code",
   "execution_count": 13,
   "metadata": {},
   "outputs": [],
   "source": [
    "# モデルの初期化\n",
    "chat, embeddings = initialize_model()\n",
    "\n",
    "# 原文のまま\n",
    "saveVector(embeddings, base_docs[:5], \"original\")"
   ]
  },
  {
   "cell_type": "code",
   "execution_count": null,
   "metadata": {},
   "outputs": [],
   "source": []
  }
 ],
 "metadata": {
  "kernelspec": {
   "display_name": "langchain",
   "language": "python",
   "name": "python3"
  },
  "language_info": {
   "codemirror_mode": {
    "name": "ipython",
    "version": 3
   },
   "file_extension": ".py",
   "mimetype": "text/x-python",
   "name": "python",
   "nbconvert_exporter": "python",
   "pygments_lexer": "ipython3",
   "version": "3.9.16"
  },
  "orig_nbformat": 4
 },
 "nbformat": 4,
 "nbformat_minor": 2
}
