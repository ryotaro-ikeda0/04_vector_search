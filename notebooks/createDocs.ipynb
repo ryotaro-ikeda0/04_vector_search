{
 "cells": [
  {
   "cell_type": "code",
   "execution_count": 1,
   "metadata": {},
   "outputs": [],
   "source": [
    "# basic\n",
    "import json\n",
    "from tqdm import tqdm\n",
    "\n",
    "# import langchain\n",
    "from langchain.chat_models import AzureChatOpenAI\n",
    "from langchain.embeddings.openai import OpenAIEmbeddings\n",
    "from langchain.chains.question_answering import load_qa_chain\n",
    "from langchain.chains import AnalyzeDocumentChain\n",
    "from langchain.docstore.document import Document\n",
    "from langchain.text_splitter import RecursiveCharacterTextSplitter\n",
    "\n",
    "# Vector Store\n",
    "from langchain.vectorstores import Qdrant\n",
    "from langchain.vectorstores.pgvector import PGVector\n",
    "\n",
    "# import env\n",
    "from config import Settings\n",
    "settings = Settings()"
   ]
  },
  {
   "cell_type": "code",
   "execution_count": 3,
   "metadata": {},
   "outputs": [
    {
     "data": {
      "text/plain": [
       "[Document(page_content='【キャリア自律とは】\\nキャリア自律（Career Self-Reliance）は、1990年代半ばにアメリカで提唱され始めた概念です。アメリカの「キャリア・アクション・センター（CAC）」では、キャリア自律を「めまぐるしく変化する環境の中で、自らのキャリア構築と継続的学習に積極的に取り組む、生涯にわたるコミットメント」と定義しています。\\n\\nキャリア自律は、新しい気付きや自己変容に焦点を置いています。単に特定の分野においてスキルを高めていくことを目指すものではなく、環境が変化する中で、“自己概念は生涯にわたって変わり得る”との認識のもと、柔軟性を持って自分のキャリアを切り開いていくしセガ求められます。\\n\\n【自立と自律の違い】\\n〇自立：他の助けを借りずに自力で物事を行う\\n〇自律：他に強制されず自らをコントロールする\\n\\n慶應義塾大学名誉教授の花田光世さんは、これらの言葉を「個人」と結びつけたとき、次のような違いが生じるとしています。\\n\\n●自立の状態にある個人：自分の意見を持ち、自己の意見を主張できるが、個人の単なる自己視聴・満足で終わってしまっている状態\\n●自律の状態にある個人：他者のニーズを把握し、それとの調整をはかりながら、自分自身の行動のコントロールを行い、自らを律しながら、自己実現を図ることのできる状態\\n\\nいま社会から求められているのは、自律の状態にある個人です。真のキャリア自律とは、自分自身のキャリアビジョンをしっかりと持ち、長期的な視点から自分のキャリアを構築することです。チャレンジの気持ちを持ちながら、自己啓発を日々行うことが必要です。\\n\\nこのような”キャリア自律”が注目されるようになった背景をセミナー深掘りしていきます！', metadata={'document_id': 1, 'title': 'ChatGPTのイベント参加ができるのか？検証イベント', 'url': 'https://bpo-protea.commmune.com/view/event/6432'}),\n",
       " Document(page_content='こちらの投稿で紹介している内容を皆さんと会話しながら紐解きます！\\u3000https://bpo-protea.commmune.com/view/post/0/411127\\n\\n【キャリア自律が求められている背景】\\nキャリア自律の必要性を感じている企業は多数にのぼります。厚生労働省の2020年度「能力開発基本調査」によると、労働者の自己啓発に対する支援を行っている事業所は79.5%。また、キャリアカウンセリングを実施している事業所は38.1％でした。\\n\\n正社員にキャリアカウンセリングを行う目的について、最も割合が高かったのは「労働者の自己啓発を促すため」で、71.1％という結果でした。以下、「職場の活性化」（69.1%）、「的確な人事管理制度の運用」（53.8%）と続きます。\\n\\nこれまでの人材開発は、組織があるべき人物像を定義し、明確な道筋のもとに企業主体で行われてきました。個人は社会の求めに応じて働くことで、勤続年数に応じたステップアップと終身雇用が約束されていました。\\n\\n終身雇用制度が無くなりつつある現在、個人と企業、社会をとりまく制度や価値観が変化してきています。\\n\\n【終身雇用や年功序列に対する考え方の変化】\\n1990年代の日本は経営破綻やリストラが相次ぎ、右肩上がりの経済成長を前提にした「一つの企業に入社すれば定年まで安泰」という認識が崩壊。成果主義を導入する企業が増加し、勤続年数の長さが上位ポストの獲得につながらないケースも出てきました。\\n\\n▼人生100年時代による就労の長期化\\n2021年、改正高年齢者雇用安定法が施行され、企業に65歳までの雇用義務、70歳までの雇用機会確保の努力義務が課されました。遠くない将来、70歳までの雇用が義務化されるとみる専門家も少なくありません。\\n\\n役職定年やいったん60歳で定年を迎えた際、賃金が下がったり仕事内容が変わったりすることで、社員のモチベーションが大きく下がることがあります。シニアのモチベーションを低下させず、一人ひとりスキルや状況にあわせていきいきと活躍してもらうためには、個人と組織のマインドチェンジが必要となります。\\n\\nまた、AIなどのテクノロジーの進化やビジネスモデルの革新により、いまある仕事が数十年後も存在しているのかを見通すことが難しくなっています。このような環境において同じ仕事を長年続けていれば、将来的に築いてきたキャリアが通用しなくなる可能性があります。そのため、新たな職務につくためのスキルを獲得する取り組みであるリスキリングの重要性が高まっています。\\n\\n\\n▼ジョブ型雇用の推進\\n高度経済成長以降、日本では長らくメンバーシップ型雇用が取り入れられてきました。しかし、1990年代以降の労働力人口減少やグローバル化の流れの中で、生産性や専門スキルを高めるジョブ型雇用が注目されるようになりました。\\n\\n日本経済団体連合会（経団連）は2022年、「ジョブ型雇用の導入・活用の検討が必要」との方針を打ち出しています。新型コロナウイルス感染症の影響からテレワークや在宅勤務制度を導入する企業が増え、仕事の成果がわかりやすいジョブ型雇用を求める動きも出てきています。\\n\\nジョブ型雇用が広まると、個人は希望する仕事に就くため、積極的にスキルアップやリスキルに取り組まなければなりません。ジョブ型雇用は仕事を通じた「会社と個人の対等な取引」が原則となります。キャリアを会社に委ねるジョブ型雇用は、キャリア自律と親和性の高いものと言えるでしょう。\\n\\n▼働き方に多様化による、個人の労働観の変化\\n国は多様な働き方を支援していますが、それはキャリアのあり方の多様化を推奨することにもつながります。業務委託や派遣といった雇用契約を結んだり、社員に複業を認めたりする企業も増えています。\\n\\n今後、同じ会社に勤めていても、人によってキャリアのあり方が異なることは珍しくなくなるでしょう。また、育児や介護といった事情を抱えた社員を支援するため、会社には柔軟な制度の運用が求められています。\\n\\n次回はそんなキャリア自律がもたらすメリットについてご紹介いたします！', metadata={'document_id': 2, 'title': 'キャリア自律ってどうやって考えれば良いのか？', 'url': 'https://bpo-protea.commmune.com/view/event/6586'}),\n",
       " Document(page_content='コミックを読んでプロテアのキャリア資産活用法について楽しく学んでみませんか？\\n\\nプロテアのキャリア資産診断を受け実際に行動するところまでを、全3話 完結編のコミックにしました！\\n\\n～あらすじ～\\n現状の仕事に満足している、製造業・営業の青野さんが、自分の“キャリア”について初めて向き合うお話です。青野さんはキャリア資産診断を受けてどのような変化が現れるのでしょうか？\\n\\nでは早速読んでいきましょう！\\n\\n\\u3000To Be Continued…続きはコチラ！', metadata={'document_id': 3, 'title': 'コミックで学ぶキャリア資産診断活用法！～前編～', 'url': 'https://bpo-protea.commmune.com/view/post/0/411129'}),\n",
       " Document(page_content='コミックを読んでプロテアのキャリア資産について楽しく学ぼう！”ということで、前編の話の続きを見ていきましょう。\\n\\n前編を読んでいない方は、ぜひコチラからご覧ください！\\n\\n～あらすじ～\\n製造業・営業の青野さんが、自分自身のキャリアに向き合った後、初めてキャリア研修をうけるお話です。キャリア研修をうけることで、果たしてどのような変化が現れるのでしょうか？\\n\\n\\nTo Be Continued…続きはコチラ！', metadata={'document_id': 4, 'title': 'コミックで学ぶキャリア資産診断活用法！～中編～', 'url': 'https://bpo-protea.commmune.com/view/post/0/411127'}),\n",
       " Document(page_content='コミックを読んでプロテアのキャリア資産について楽しく学ぼう！”\\n\\nということで、最終話を見ていきましょう。\\n\\n前編・中編を読んでいない方は、ぜひコチラからご覧ください！\\n\\n前編はコチラ！\\n\\n中編はコチラ！\\n\\n～あらすじ～\\n製造業・営業の青野さんが、キャリア研修をキッカケに、キャリア＝仕事というイメージを取っ払い、自分の“やりたいコト”を思い出すことが出来ました。その後に青野さんはどのような行動に出るのでしょうか？\\n\\n青野さんが自分自身に問いかけ、新たな行動をしたことによりキャリア資産診断結果にも変化が見えましたね！これは青野さんだけでなく、今これをお読みの皆さんにも十分起こり得ることです。\\n\\n皆さんも、キャリア資産診断結果を参考にしつつ、再度自分自身に問いかけ、小さいコトでも新たに行動してみましょう！\\n\\nまずは、キャリア資産占いからやってみてくださいね。\\n\\n＃キャリア資産\\n\\n(編集済み)', metadata={'document_id': 5, 'title': 'コミックで学ぶキャリア資産診断活用法！～後編～', 'url': 'https://bpo-protea.commmune.com/view/post/0/411145'}),\n",
       " Document(page_content='あなたは今、以下のような悩みを抱えていませんか？\\n将来このままでちゃんと生活していけるのかな？\\n子供の成長とか将来のこととかなかなか考えきれない…\\n仕事もしてそれなりに暮らしてはいるけどこのままで大丈夫かな？\\n\\nこのように、どことなく漠然とした不安や心配を抱えているかもしれませんね。\\n特にお子さんの成長を実感したり、入学式や入園など人生の節目の時にこのような漠然とした不安を抱える人は多いようです。\\nこの記事では、そのような漠然とした不安を解消していく方法について解説していきます。\\nこの記事のポイントは以下です。\\n漠然とした不安を解消するポイント\\nこの先10年の家族の年表を作ってみる\\nあなたのこれまでの人生を振り返ってみる\\n本来の自分らしさを活かせるキャリアを考えてみる\\n\\n今回は、「【将来が不安な人は必見】漠然とした不安を解消する３つのポイント～キャリアアップがこれからのカギ～」と題してこれから先のあなたの未来を考える「コツ」について解説していきます。\\nそれでは早速見ていきましょう！！\\n漠然とした不安を解消する３つのポイント\\n\\n冒頭でもご紹介していますが、漠然とした不安を解消する方法は以下の3つです。\\n漠然とした不安を解消するポイント\\nこの先10年の家族の年表を作ってみる\\nあなたのこれまでの人生を振り返ってみる\\n本来の自分らしさを活かせるキャリアを考えてみる\\n\\nこのほかにもポイントはたくさんありますが、オーソドックスなのは上記のような3つが代表的です。\\n以下で1つずつ解説していきますね。\\n①この先10年の家族の年表を作ってみる\\nまず１つめのポイントは「この先10年の家族の年表を作ってみる」ですね。\\nこれによって、家族みんなのライフステージがどのようになっていくのかが分かりやすくなります。\\nまた、その時に必要なお金なども考えるきっかけになりますよね。\\n人生計画の立て方については「人生設計の立て方5つ！目標を定めて今後に備えよう」という記事も参考になりますので、是非チェックしてみてください。\\n②あなたのこれまでの人生を振り返ってみる\\n２つめは「あなたのこれまでの人生を振り返ってみる」ですね。\\nこれもぜひ振り返ってみると、以下のような効果があります。\\n人生を振り返ることによる効果\\n自分の好きなことがわかる\\n自分の人生のパターンや傾向に気付ける\\nふ～ん、おもしろいな～ってなるｗ\\n\\n振り返り方としては、ノートに自分年表を書いてみたりしてまとめるのがよいですね。\\nもし興味があれば、やってみてください。\\n③本来の自分らしさを活かせるキャリアを考えてみる\\n３つめは「本来の自分らしさを活かせるキャリアを考えてみる」ですね。\\n何が自分らしいのか、そしてそれがこの先どのように生かせるのかを考えてみることもおすすめです。\\nもし一人では難しいという場合は「」のページでキャリア研修の募集もしています。\\n興味本位でも良いので、軽い気持ちで参加してみることもおすすめです。\\nもしかしたら、同じような悩みを抱えている人との出会いや交流などもあるかもしれませんよ。\\n関連リンク：キャリア研修基礎編申込ページ\\n漠然とした不安を解消した後に考えるべきこと\\nさいごに、キャリア研修や10年年表によって不安が解消された後に、あなたがすべきことについてご紹介しておきます。\\nもし興味が持てたり、前向きにこの先も進んでいこうと思ったら、それを積極的に誰かに伝えてみることです。\\nBPOプロテアでは、そのような将来についての道筋や不安、具体的な進み方などについて相談できる相談窓口やチャット機能による相談も可能です。\\nぜひこういった機会や機能も活用してみてください。\\nキャリアについて窓口に相談してみる：プロテア相談窓口\\nチャット機能でキャリアを相談してみる：AIチャット機能\\nまとめ\\nいかがでしたでしょうか？\\n改めて、ポイントは以下です。\\n漠然とした不安を解消するポイント\\nこの先10年の家族の年表を作ってみる\\nあなたのこれまでの人生を振り返ってみる\\n本来の自分らしさを活かせるキャリアを考えてみる\\nぜひ、これを機に考えてみたり、行動をしてみてくださいね。\\nそれではまた！', metadata={'document_id': 6, 'title': '【将来が不安な人は必見】漠然とした不安を解消する３つのポイント～キャリアアップがこれからのカギ～', 'url': 'https://bpo-protea.commmune.com/view/knowledgebase/post/9147'})]"
      ]
     },
     "execution_count": 3,
     "metadata": {},
     "output_type": "execute_result"
    }
   ],
   "source": [
    "with open(\"../data/baseDocs.json\", \"r\") as f:\n",
    "    # jsonファイルを読み込んで、辞書型に変換する\n",
    "    data = json.load(f)\n",
    "    base_docs = [Document(page_content=text[\"page_content\"], metadata=text[\"metadata\"]) for text in data]\n",
    "\n",
    "base_docs"
   ]
  },
  {
   "cell_type": "code",
   "execution_count": 4,
   "metadata": {},
   "outputs": [],
   "source": [
    "# jsonファイルの読み込み\n",
    "def load_json():\n",
    "    # テキストデータの読み込み\n",
    "    with open(\"../data/baseDocs.json\", \"r\") as f:\n",
    "        # jsonファイルを読み込んで、辞書型に変換する\n",
    "        data = json.load(f)\n",
    "        base_docs = [Document(page_content=text[\"page_content\"], metadata=text[\"metadata\"]) for text in data]\n",
    "\n",
    "    # 指示文の読み込み\n",
    "    with open(\"../data/instructions.json\", \"r\") as f:\n",
    "        # jsonファイルを読み込んで、辞書型に変換する\n",
    "        instructions = json.load(f)\n",
    "\n",
    "    return base_docs, instructions"
   ]
  },
  {
   "cell_type": "code",
   "execution_count": 5,
   "metadata": {},
   "outputs": [],
   "source": [
    "# モデルの初期化\n",
    "def initialize_model():\n",
    "    chat = AzureChatOpenAI(\n",
    "        temperature=0,\n",
    "        openai_api_key=settings.AZURE_OPENAI_API_KEY,\n",
    "        openai_api_base=settings.AZURE_OPENAI_API_ENDPOINT,\n",
    "        deployment_name=settings.AZURE_OPENAI_API_DEPLOYMENT_NAME,\n",
    "        openai_api_version=settings.AZURE_OPENAI_API_VERSION,\n",
    "        openai_api_type=\"azure\",\n",
    "        max_tokens=1000,\n",
    "    )\n",
    "\n",
    "    embeddings = OpenAIEmbeddings(\n",
    "        openai_api_key=settings.AZURE_OPENAI_API_KEY,\n",
    "        openai_api_base=settings.AZURE_OPENAI_API_ENDPOINT,\n",
    "        openai_api_version=settings.AZURE_OPENAI_API_VERSION,\n",
    "        openai_api_type=\"azure\",\n",
    "        model=settings.EMBEDDING_MODEL_NAME,\n",
    "        chunk_size=1\n",
    "    )\n",
    "    return chat, embeddings"
   ]
  },
  {
   "cell_type": "code",
   "execution_count": 6,
   "metadata": {},
   "outputs": [],
   "source": [
    "# ドキュメント解析\n",
    "def analyzeDocuments(chat, base_docs, instruction):\n",
    "    qa_chain = load_qa_chain(chat, chain_type=\"map_reduce\", verbose=False)\n",
    "    qa_document_chain = AnalyzeDocumentChain(combine_docs_chain=qa_chain)\n",
    "\n",
    "    docs = [\n",
    "        Document(\n",
    "            page_content=qa_document_chain.run(input_document=doc.page_content, question=instruction),\n",
    "            metadata=doc.metadata\n",
    "        ) for doc in tqdm(base_docs)\n",
    "    ]\n",
    "    return docs"
   ]
  },
  {
   "cell_type": "code",
   "execution_count": 9,
   "metadata": {},
   "outputs": [],
   "source": [
    "# ベクトルストアに保存\n",
    "def saveVector(embeddings, docs, table_name):\n",
    "\n",
    "    # Qdrant\n",
    "    Qdrant.from_documents(\n",
    "        documents=docs,\n",
    "        embedding=embeddings,\n",
    "        url=settings.QDRANT_URL,\n",
    "        prefer_grpc=True,\n",
    "        collection_name=table_name,\n",
    "    )\n",
    "\n",
    "    # PGVector\n",
    "    CONNECTION_STRING = PGVector.connection_string_from_db_params(\n",
    "        driver=\"psycopg2\",\n",
    "        host=\"localhost\",\n",
    "        port=settings.PORT_PGVECTOR,\n",
    "        database=settings.POSTGRES_DB,\n",
    "        user=settings.POSTGRES_USER,\n",
    "        password=settings.POSTGRES_PASSWORD,\n",
    "    )\n",
    "\n",
    "    PGVector.from_documents(\n",
    "        embedding=embeddings,\n",
    "        documents=docs,\n",
    "        collection_name=table_name,\n",
    "        connection_string=CONNECTION_STRING,\n",
    "    )\n"
   ]
  },
  {
   "cell_type": "code",
   "execution_count": null,
   "metadata": {},
   "outputs": [],
   "source": [
    "def main():\n",
    "    try:\n",
    "        # jsonファイルの読み込み\n",
    "        base_docs, instructions = load_json()\n",
    "\n",
    "        # モデルの初期化\n",
    "        chat, embeddings = initialize_model()\n",
    "\n",
    "        # 原文のまま\n",
    "        saveVector(embeddings, base_docs, \"original\")\n",
    "\n",
    "        # # 要約\n",
    "        # for item in instructions:\n",
    "        #     table_name, instruction = item.values()\n",
    "        #     docs = analyzeDocuments(chat, base_docs, instruction)\n",
    "        #     saveVector(embeddings, docs, table_name)\n",
    "\n",
    "        # # 分割\n",
    "        # text_splitter = RecursiveCharacterTextSplitter(chunk_size=300)\n",
    "        # docs = text_splitter.split_documents(base_docs)\n",
    "        # saveVector(embeddings, docs, \"split\")\n",
    "\n",
    "    except Exception as e:\n",
    "        print(e)\n",
    "\n",
    "main()"
   ]
  },
  {
   "cell_type": "code",
   "execution_count": null,
   "metadata": {},
   "outputs": [],
   "source": []
  },
  {
   "cell_type": "code",
   "execution_count": null,
   "metadata": {},
   "outputs": [],
   "source": []
  }
 ],
 "metadata": {
  "kernelspec": {
   "display_name": "protea",
   "language": "python",
   "name": "python3"
  },
  "language_info": {
   "codemirror_mode": {
    "name": "ipython",
    "version": 3
   },
   "file_extension": ".py",
   "mimetype": "text/x-python",
   "name": "python",
   "nbconvert_exporter": "python",
   "pygments_lexer": "ipython3",
   "version": "3.9.16"
  },
  "orig_nbformat": 4
 },
 "nbformat": 4,
 "nbformat_minor": 2
}
