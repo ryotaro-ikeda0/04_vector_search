{
 "cells": [
  {
   "cell_type": "code",
   "execution_count": 8,
   "metadata": {},
   "outputs": [],
   "source": [
    "# basic\n",
    "import json\n",
    "import pandas as pd\n",
    "from tqdm import tqdm\n",
    "import tiktoken\n",
    "\n",
    "# import langchain\n",
    "from langchain.chat_models import AzureChatOpenAI\n",
    "from langchain.prompts import (\n",
    "    ChatPromptTemplate,\n",
    "    SystemMessagePromptTemplate,\n",
    "    HumanMessagePromptTemplate\n",
    ")\n",
    "from langchain.chains import ConversationChain\n",
    "\n",
    "# Vector Store\n",
    "from qdrant_client import QdrantClient\n",
    "from langchain.vectorstores import Qdrant\n",
    "from langchain.vectorstores.pgvector import PGVector\n",
    "\n",
    "# import env\n",
    "from config import Settings\n",
    "settings = Settings()"
   ]
  },
  {
   "cell_type": "code",
   "execution_count": 9,
   "metadata": {},
   "outputs": [],
   "source": [
    "# jsonファイルの読み込み\n",
    "def load_json():\n",
    "    with open(\"../data/questions.json\", \"r\") as f:\n",
    "        query_json = json.load(f)\n",
    "    return query_json"
   ]
  },
  {
   "cell_type": "code",
   "execution_count": 34,
   "metadata": {},
   "outputs": [],
   "source": [
    "# モデルの初期化\n",
    "def chain(system_role_prompt: str, user_prompt: str) -> str:\n",
    "    chat = AzureChatOpenAI(\n",
    "        temperature=0.9,\n",
    "        openai_api_key=settings.AZURE_OPENAI_API_KEY,\n",
    "        openai_api_base=settings.AZURE_OPENAI_API_ENDPOINT,\n",
    "        deployment_name=settings.AZURE_OPENAI_API_DEPLOYMENT_NAME,\n",
    "        openai_api_version=settings.AZURE_OPENAI_API_VERSION,\n",
    "        openai_api_type=\"azure\",\n",
    "        max_tokens=100,\n",
    "    )\n",
    "\n",
    "    chat_prompt = ChatPromptTemplate.from_messages([\n",
    "        SystemMessagePromptTemplate.from_template(system_role_prompt),\n",
    "        HumanMessagePromptTemplate.from_template('{input}')\n",
    "    ])\n",
    "\n",
    "    chain = ConversationChain(\n",
    "        llm=chat,\n",
    "        prompt=chat_prompt,\n",
    "    )\n",
    "\n",
    "    response = chain.predict(user_prompt)\n",
    "\n",
    "    return response"
   ]
  },
  {
   "cell_type": "code",
   "execution_count": 35,
   "metadata": {},
   "outputs": [],
   "source": [
    "# トークン数の取得\n",
    "def token_encoder_initialize() -> tiktoken.Encoding:\n",
    "    return tiktoken.get_encoding(\"cl100k_base\")"
   ]
  },
  {
   "cell_type": "code",
   "execution_count": 37,
   "metadata": {},
   "outputs": [
    {
     "ename": "ValidationError",
     "evalue": "1 validation error for ConversationChain\n__root__\n  Got unexpected prompt input variables. The prompt expects ['input'], but got ['history'] as inputs from memory, and input as the normal input key. (type=value_error)",
     "output_type": "error",
     "traceback": [
      "\u001b[0;31m---------------------------------------------------------------------------\u001b[0m",
      "\u001b[0;31mValidationError\u001b[0m                           Traceback (most recent call last)",
      "Cell \u001b[0;32mIn[37], line 1\u001b[0m\n\u001b[0;32m----> 1\u001b[0m chain(\u001b[39m'\u001b[39;49m\u001b[39m'\u001b[39;49m, \u001b[39m'\u001b[39;49m\u001b[39mこんにちは\u001b[39;49m\u001b[39m'\u001b[39;49m)\n",
      "Cell \u001b[0;32mIn[34], line 18\u001b[0m, in \u001b[0;36mchain\u001b[0;34m(system_role_prompt, user_prompt)\u001b[0m\n\u001b[1;32m      3\u001b[0m chat \u001b[39m=\u001b[39m AzureChatOpenAI(\n\u001b[1;32m      4\u001b[0m     temperature\u001b[39m=\u001b[39m\u001b[39m0.9\u001b[39m,\n\u001b[1;32m      5\u001b[0m     openai_api_key\u001b[39m=\u001b[39msettings\u001b[39m.\u001b[39mAZURE_OPENAI_API_KEY,\n\u001b[0;32m   (...)\u001b[0m\n\u001b[1;32m     10\u001b[0m     max_tokens\u001b[39m=\u001b[39m\u001b[39m100\u001b[39m,\n\u001b[1;32m     11\u001b[0m )\n\u001b[1;32m     13\u001b[0m chat_prompt \u001b[39m=\u001b[39m ChatPromptTemplate\u001b[39m.\u001b[39mfrom_messages([\n\u001b[1;32m     14\u001b[0m     SystemMessagePromptTemplate\u001b[39m.\u001b[39mfrom_template(system_role_prompt),\n\u001b[1;32m     15\u001b[0m     HumanMessagePromptTemplate\u001b[39m.\u001b[39mfrom_template(\u001b[39m'\u001b[39m\u001b[39m{input}\u001b[39;00m\u001b[39m'\u001b[39m)\n\u001b[1;32m     16\u001b[0m ])\n\u001b[0;32m---> 18\u001b[0m chain \u001b[39m=\u001b[39m ConversationChain(\n\u001b[1;32m     19\u001b[0m     llm\u001b[39m=\u001b[39;49mchat,\n\u001b[1;32m     20\u001b[0m     prompt\u001b[39m=\u001b[39;49mchat_prompt,\n\u001b[1;32m     21\u001b[0m )\n\u001b[1;32m     23\u001b[0m response \u001b[39m=\u001b[39m chain\u001b[39m.\u001b[39mrun({\u001b[39m'\u001b[39m\u001b[39minput\u001b[39m\u001b[39m'\u001b[39m: user_prompt})\n\u001b[1;32m     25\u001b[0m \u001b[39mreturn\u001b[39;00m response\n",
      "File \u001b[0;32m~/miniforge3/envs/protea/lib/python3.11/site-packages/langchain/load/serializable.py:61\u001b[0m, in \u001b[0;36mSerializable.__init__\u001b[0;34m(self, **kwargs)\u001b[0m\n\u001b[1;32m     60\u001b[0m \u001b[39mdef\u001b[39;00m \u001b[39m__init__\u001b[39m(\u001b[39mself\u001b[39m, \u001b[39m*\u001b[39m\u001b[39m*\u001b[39mkwargs: Any) \u001b[39m-\u001b[39m\u001b[39m>\u001b[39m \u001b[39mNone\u001b[39;00m:\n\u001b[0;32m---> 61\u001b[0m     \u001b[39msuper\u001b[39;49m()\u001b[39m.\u001b[39;49m\u001b[39m__init__\u001b[39;49m(\u001b[39m*\u001b[39;49m\u001b[39m*\u001b[39;49mkwargs)\n\u001b[1;32m     62\u001b[0m     \u001b[39mself\u001b[39m\u001b[39m.\u001b[39mlc_kwargs \u001b[39m=\u001b[39m kwargs\n",
      "File \u001b[0;32m~/miniforge3/envs/protea/lib/python3.11/site-packages/pydantic/main.py:341\u001b[0m, in \u001b[0;36mpydantic.main.BaseModel.__init__\u001b[0;34m()\u001b[0m\n",
      "\u001b[0;31mValidationError\u001b[0m: 1 validation error for ConversationChain\n__root__\n  Got unexpected prompt input variables. The prompt expects ['input'], but got ['history'] as inputs from memory, and input as the normal input key. (type=value_error)"
     ]
    }
   ],
   "source": [
    "chain('', 'こんにちは')"
   ]
  },
  {
   "cell_type": "code",
   "execution_count": null,
   "metadata": {},
   "outputs": [],
   "source": []
  }
 ],
 "metadata": {
  "kernelspec": {
   "display_name": "protea",
   "language": "python",
   "name": "python3"
  },
  "language_info": {
   "codemirror_mode": {
    "name": "ipython",
    "version": 3
   },
   "file_extension": ".py",
   "mimetype": "text/x-python",
   "name": "python",
   "nbconvert_exporter": "python",
   "pygments_lexer": "ipython3",
   "version": "3.11.4"
  },
  "orig_nbformat": 4
 },
 "nbformat": 4,
 "nbformat_minor": 2
}
